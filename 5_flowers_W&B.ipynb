{
  "nbformat": 4,
  "nbformat_minor": 0,
  "metadata": {
    "colab": {
      "provenance": [],
      "gpuType": "T4"
    },
    "kernelspec": {
      "name": "python3",
      "display_name": "Python 3"
    },
    "language_info": {
      "name": "python"
    },
    "accelerator": "GPU"
  },
  "cells": [
    {
      "cell_type": "code",
      "execution_count": 1,
      "metadata": {
        "id": "A1ZWNYi6vJo5"
      },
      "outputs": [],
      "source": [
        "import tensorflow as tf\n",
        "import wandb\n",
        "from wandb.integration.keras import WandbMetricsLogger\n",
        "from tensorflow import keras\n",
        "import numpy as np\n",
        "import math"
      ]
    },
    {
      "cell_type": "code",
      "source": [
        "sweep_config = {\n",
        "    'method' : 'grid',\n",
        "    'metric' : {\n",
        "        'name' : 'val_accuracy',\n",
        "        'goal' : 'maximize'\n",
        "    },\n",
        "    'parameters' : {\n",
        "        'learning_rate' : {'values': [0.001, 0.0001, 0.00001]},\n",
        "        'batch_size' : {'values': [32, 64, 128]},\n",
        "        'img_size' : {'values': [64, 128, 224]},\n",
        "        'epochs' : {'values': [5, 10]},\n",
        "        'hidden_nodes' : {'values': [64, 128]}\n",
        "    }\n",
        "}\n",
        "\n",
        "sweep_id = wandb.sweep(sweep_config, project=\"5-flowers-project\")"
      ],
      "metadata": {
        "colab": {
          "base_uri": "https://localhost:8080/",
          "height": 225
        },
        "id": "81SkwiHB8Re5",
        "outputId": "3a688c4e-65be-40d4-c352-eef239c6dfb9"
      },
      "execution_count": 2,
      "outputs": [
        {
          "output_type": "stream",
          "name": "stderr",
          "text": [
            "/usr/local/lib/python3.12/dist-packages/notebook/notebookapp.py:191: SyntaxWarning: invalid escape sequence '\\/'\n",
            "  | |_| | '_ \\/ _` / _` |  _/ -_)\n"
          ]
        },
        {
          "output_type": "display_data",
          "data": {
            "text/plain": [
              "<IPython.core.display.Javascript object>"
            ],
            "application/javascript": [
              "\n",
              "        window._wandbApiKey = new Promise((resolve, reject) => {\n",
              "            function loadScript(url) {\n",
              "            return new Promise(function(resolve, reject) {\n",
              "                let newScript = document.createElement(\"script\");\n",
              "                newScript.onerror = reject;\n",
              "                newScript.onload = resolve;\n",
              "                document.body.appendChild(newScript);\n",
              "                newScript.src = url;\n",
              "            });\n",
              "            }\n",
              "            loadScript(\"https://cdn.jsdelivr.net/npm/postmate/build/postmate.min.js\").then(() => {\n",
              "            const iframe = document.createElement('iframe')\n",
              "            iframe.style.cssText = \"width:0;height:0;border:none\"\n",
              "            document.body.appendChild(iframe)\n",
              "            const handshake = new Postmate({\n",
              "                container: iframe,\n",
              "                url: 'https://wandb.ai/authorize'\n",
              "            });\n",
              "            const timeout = setTimeout(() => reject(\"Couldn't auto authenticate\"), 5000)\n",
              "            handshake.then(function(child) {\n",
              "                child.on('authorize', data => {\n",
              "                    clearTimeout(timeout)\n",
              "                    resolve(data)\n",
              "                });\n",
              "            });\n",
              "            })\n",
              "        });\n",
              "    "
            ]
          },
          "metadata": {}
        },
        {
          "output_type": "stream",
          "name": "stderr",
          "text": [
            "\u001b[34m\u001b[1mwandb\u001b[0m: Logging into wandb.ai. (Learn how to deploy a W&B server locally: https://wandb.me/wandb-server)\n",
            "\u001b[34m\u001b[1mwandb\u001b[0m: You can find your API key in your browser here: https://wandb.ai/authorize?ref=models\n",
            "wandb: Paste an API key from your profile and hit enter:"
          ]
        },
        {
          "name": "stdout",
          "output_type": "stream",
          "text": [
            " ··········\n"
          ]
        },
        {
          "output_type": "stream",
          "name": "stderr",
          "text": [
            "\u001b[34m\u001b[1mwandb\u001b[0m: \u001b[33mWARNING\u001b[0m If you're specifying your api key in code, ensure this code is not shared publicly.\n",
            "\u001b[34m\u001b[1mwandb\u001b[0m: \u001b[33mWARNING\u001b[0m Consider setting the WANDB_API_KEY environment variable, or running `wandb login` from the command line.\n",
            "\u001b[34m\u001b[1mwandb\u001b[0m: No netrc file found, creating one.\n",
            "\u001b[34m\u001b[1mwandb\u001b[0m: Appending key for api.wandb.ai to your netrc file: /root/.netrc\n"
          ]
        },
        {
          "output_type": "stream",
          "name": "stdout",
          "text": [
            "Create sweep with ID: iiskipi1\n",
            "Sweep URL: https://wandb.ai/hussaintoori/5-flowers-project/sweeps/iiskipi1\n"
          ]
        }
      ]
    },
    {
      "cell_type": "code",
      "source": [
        "def train():\n",
        "    wandb.init()\n",
        "    config = wandb.config\n",
        "\n",
        "    IMG_HEIGHT = config.img_size\n",
        "    IMG_WIDTH = config.img_size\n",
        "    IMG_CHANNELS = 3\n",
        "\n",
        "    CLASS_NAMES = [\"daisy\", \"dandelion\", \"roses\", \"sunflowers\", \"tulips\"]\n",
        "\n",
        "\n",
        "    def read_and_decode(filename, resize_dims):\n",
        "      # 1. Read the raw file\n",
        "      img_bytes = tf.io.read_file(filename)\n",
        "      # 2. Decode image data\n",
        "      img = tf.image.decode_jpeg(img_bytes, channels = IMG_CHANNELS)\n",
        "      # 3. Convert pixel values to floats in [0, 1]\n",
        "      img = tf.image.convert_image_dtype(img, tf.float32)\n",
        "      # 4. Resize the image to match desired dimensions\n",
        "      img = tf.image.resize(img, resize_dims)\n",
        "      return img\n",
        "\n",
        "    def parse_csvline(csv_line):\n",
        "      # record_defaults specify the data types for each column\n",
        "      record_default = [\"\", \"\"]\n",
        "      filename, label_string = tf.io.decode_csv(csv_line, record_default)\n",
        "\n",
        "      # Load the image\n",
        "      img = read_and_decode(filename, [IMG_HEIGHT, IMG_WIDTH])\n",
        "\n",
        "      # Convert label string to integer based on the CLASS_NAMES index\n",
        "      label = tf.argmax(tf.math.equal(CLASS_NAMES, label_string))\n",
        "      return img, label\n",
        "\n",
        "    # Define datasets\n",
        "    train_dataset = (\n",
        "      tf.data.TextLineDataset(\"gs://cloud-ml-data/img/flower_photos/train_set.csv\")\n",
        "      .map(parse_csvline, num_parallel_calls=tf.data.AUTOTUNE)\n",
        "      .batch(config.batch_size)\n",
        "      .prefetch(tf.data.AUTOTUNE)\n",
        "    )\n",
        "\n",
        "    eval_dataset = (\n",
        "      tf.data.TextLineDataset(\"gs://cloud-ml-data/img/flower_photos/eval_set.csv\")\n",
        "      .map(parse_csvline, num_parallel_calls=tf.data.AUTOTUNE)\n",
        "      .batch(config.batch_size)\n",
        "      .prefetch(tf.data.AUTOTUNE)\n",
        "    )\n",
        "\n",
        "    model = keras.Sequential([\n",
        "      keras.layers.Flatten(input_shape=(IMG_HEIGHT, IMG_WIDTH, IMG_CHANNELS)),\n",
        "      keras.layers.Dense(config.hidden_nodes, activation = \"relu\"), #additional layer of neural network.\n",
        "      keras.layers.Dense(len(CLASS_NAMES), activation=\"softmax\")\n",
        "    ])\n",
        "\n",
        "    model.compile(\n",
        "      optimizer=keras.optimizers.Adam(learning_rate=config.learning_rate), # learning rate could be set here. by default it's 0.001 here\n",
        "      loss=\"sparse_categorical_crossentropy\",\n",
        "      metrics=[\"accuracy\"]\n",
        "    )\n",
        "\n",
        "    model.fit(\n",
        "      train_dataset,\n",
        "      validation_data = eval_dataset,\n",
        "      epochs = config.epochs,\n",
        "      callbacks = WandbMetricsLogger(log_freq=5)\n",
        "    )\n"
      ],
      "metadata": {
        "id": "PuqwHWSF98ZY"
      },
      "execution_count": 3,
      "outputs": []
    },
    {
      "cell_type": "code",
      "source": [
        "wandb.agent(sweep_id, function=train)"
      ],
      "metadata": {
        "colab": {
          "base_uri": "https://localhost:8080/",
          "height": 1000
        },
        "id": "YcgTYVJmCEap",
        "outputId": "8a02e48d-410b-420e-e3e8-d9ac8eec3f1c"
      },
      "execution_count": null,
      "outputs": [
        {
          "metadata": {
            "tags": null
          },
          "name": "stderr",
          "output_type": "stream",
          "text": [
            "\u001b[34m\u001b[1mwandb\u001b[0m: Agent Starting Run: q3scz0gk with config:\n",
            "\u001b[34m\u001b[1mwandb\u001b[0m: \tbatch_size: 32\n",
            "\u001b[34m\u001b[1mwandb\u001b[0m: \tepochs: 5\n",
            "\u001b[34m\u001b[1mwandb\u001b[0m: \thidden_nodes: 64\n",
            "\u001b[34m\u001b[1mwandb\u001b[0m: \timg_size: 64\n",
            "\u001b[34m\u001b[1mwandb\u001b[0m: \tlearning_rate: 0.001\n",
            "\u001b[34m\u001b[1mwandb\u001b[0m: Currently logged in as: \u001b[33mhussainturi\u001b[0m (\u001b[33mhussaintoori\u001b[0m) to \u001b[32mhttps://api.wandb.ai\u001b[0m. Use \u001b[1m`wandb login --relogin`\u001b[0m to force relogin\n"
          ]
        },
        {
          "data": {
            "text/html": [],
            "text/plain": [
              "<IPython.core.display.HTML object>"
            ]
          },
          "metadata": {},
          "output_type": "display_data"
        },
        {
          "data": {
            "text/html": [
              "Tracking run with wandb version 0.21.3"
            ],
            "text/plain": [
              "<IPython.core.display.HTML object>"
            ]
          },
          "metadata": {},
          "output_type": "display_data"
        },
        {
          "data": {
            "text/html": [
              "Run data is saved locally in <code>/content/wandb/run-20250921_114009-q3scz0gk</code>"
            ],
            "text/plain": [
              "<IPython.core.display.HTML object>"
            ]
          },
          "metadata": {},
          "output_type": "display_data"
        },
        {
          "data": {
            "text/html": [
              "Syncing run <strong><a href='https://wandb.ai/hussaintoori/5-flowers-project/runs/q3scz0gk' target=\"_blank\">twilight-sweep-1</a></strong> to <a href='https://wandb.ai/hussaintoori/5-flowers-project' target=\"_blank\">Weights & Biases</a> (<a href='https://wandb.me/developer-guide' target=\"_blank\">docs</a>)<br>Sweep page: <a href='https://wandb.ai/hussaintoori/5-flowers-project/sweeps/iiskipi1' target=\"_blank\">https://wandb.ai/hussaintoori/5-flowers-project/sweeps/iiskipi1</a>"
            ],
            "text/plain": [
              "<IPython.core.display.HTML object>"
            ]
          },
          "metadata": {},
          "output_type": "display_data"
        },
        {
          "data": {
            "text/html": [
              " View project at <a href='https://wandb.ai/hussaintoori/5-flowers-project' target=\"_blank\">https://wandb.ai/hussaintoori/5-flowers-project</a>"
            ],
            "text/plain": [
              "<IPython.core.display.HTML object>"
            ]
          },
          "metadata": {},
          "output_type": "display_data"
        },
        {
          "data": {
            "text/html": [
              " View sweep at <a href='https://wandb.ai/hussaintoori/5-flowers-project/sweeps/iiskipi1' target=\"_blank\">https://wandb.ai/hussaintoori/5-flowers-project/sweeps/iiskipi1</a>"
            ],
            "text/plain": [
              "<IPython.core.display.HTML object>"
            ]
          },
          "metadata": {},
          "output_type": "display_data"
        },
        {
          "data": {
            "text/html": [
              " View run at <a href='https://wandb.ai/hussaintoori/5-flowers-project/runs/q3scz0gk' target=\"_blank\">https://wandb.ai/hussaintoori/5-flowers-project/runs/q3scz0gk</a>"
            ],
            "text/plain": [
              "<IPython.core.display.HTML object>"
            ]
          },
          "metadata": {},
          "output_type": "display_data"
        },
        {
          "metadata": {
            "tags": null
          },
          "name": "stderr",
          "output_type": "stream",
          "text": [
            "/usr/local/lib/python3.12/dist-packages/keras/src/layers/reshaping/flatten.py:37: UserWarning: Do not pass an `input_shape`/`input_dim` argument to a layer. When using Sequential models, prefer using an `Input(shape)` object as the first layer in the model instead.\n",
            "  super().__init__(**kwargs)\n"
          ]
        },
        {
          "metadata": {
            "tags": null
          },
          "name": "stdout",
          "output_type": "stream",
          "text": [
            "Epoch 1/5\n",
            "    104/Unknown \u001b[1m184s\u001b[0m 2s/step - accuracy: 0.3149 - loss: 2.1008"
          ]
        },
        {
          "metadata": {
            "tags": null
          },
          "name": "stderr",
          "output_type": "stream",
          "text": [
            "/usr/local/lib/python3.12/dist-packages/keras/src/trainers/epoch_iterator.py:160: UserWarning: Your input ran out of data; interrupting training. Make sure that your dataset or generator can generate at least `steps_per_epoch * epochs` batches. You may need to use the `.repeat()` function when building your dataset.\n",
            "  self._interrupted_warning()\n"
          ]
        },
        {
          "metadata": {
            "tags": null
          },
          "name": "stdout",
          "output_type": "stream",
          "text": [
            "\u001b[1m104/104\u001b[0m \u001b[32m━━━━━━━━━━━━━━━━━━━━\u001b[0m\u001b[37m\u001b[0m \u001b[1m206s\u001b[0m 2s/step - accuracy: 0.3152 - loss: 2.0971 - val_accuracy: 0.3811 - val_loss: 1.4800\n",
            "Epoch 2/5\n",
            "\u001b[1m104/104\u001b[0m \u001b[32m━━━━━━━━━━━━━━━━━━━━\u001b[0m\u001b[37m\u001b[0m \u001b[1m256s\u001b[0m 2s/step - accuracy: 0.3966 - loss: 1.4255 - val_accuracy: 0.4270 - val_loss: 1.3013\n",
            "Epoch 3/5\n",
            "\u001b[1m104/104\u001b[0m \u001b[32m━━━━━━━━━━━━━━━━━━━━\u001b[0m\u001b[37m\u001b[0m \u001b[1m122s\u001b[0m 1s/step - accuracy: 0.4334 - loss: 1.3389 - val_accuracy: 0.4568 - val_loss: 1.2415\n",
            "Epoch 4/5\n",
            "\u001b[1m104/104\u001b[0m \u001b[32m━━━━━━━━━━━━━━━━━━━━\u001b[0m\u001b[37m\u001b[0m \u001b[1m105s\u001b[0m 1s/step - accuracy: 0.4722 - loss: 1.2518 - val_accuracy: 0.4838 - val_loss: 1.2148\n",
            "Epoch 5/5\n",
            "\u001b[1m104/104\u001b[0m \u001b[32m━━━━━━━━━━━━━━━━━━━━\u001b[0m\u001b[37m\u001b[0m \u001b[1m96s\u001b[0m 919ms/step - accuracy: 0.5012 - loss: 1.1827 - val_accuracy: 0.4973 - val_loss: 1.2063\n"
          ]
        },
        {
          "data": {
            "text/html": [],
            "text/plain": [
              "<IPython.core.display.HTML object>"
            ]
          },
          "metadata": {},
          "output_type": "display_data"
        },
        {
          "data": {
            "text/html": [
              "<br>    <style><br>        .wandb-row {<br>            display: flex;<br>            flex-direction: row;<br>            flex-wrap: wrap;<br>            justify-content: flex-start;<br>            width: 100%;<br>        }<br>        .wandb-col {<br>            display: flex;<br>            flex-direction: column;<br>            flex-basis: 100%;<br>            flex: 1;<br>            padding: 10px;<br>        }<br>    </style><br><div class=\"wandb-row\"><div class=\"wandb-col\"><h3>Run history:</h3><br/><table class=\"wandb\"><tr><td>batch/accuracy</td><td>▂▁▂▃▃▃▃▃▃▃▅▃▄▄▅▅▅▄▅▄▃▄▅▅▅▅▅▅▄▅▆▆▆▆█▆▆▆▆▆</td></tr><tr><td>batch/batch_step</td><td>▁▁▁▁▂▂▂▂▂▂▃▃▃▃▃▃▃▄▄▄▄▄▅▅▆▆▆▆▆▆▆▆▆▇▇▇▇███</td></tr><tr><td>batch/learning_rate</td><td>▁▁▁▁▁▁▁▁▁▁▁▁▁▁▁▁▁▁▁▁▁▁▁▁▁▁▁▁▁▁▁▁▁▁▁▁▁▁▁▁</td></tr><tr><td>batch/loss</td><td>▂█▆▅▄▃▃▃▃▃▃▂▂▂▂▂▂▂▂▁▁▁▁▁▁▂▁▁▁▁▁▁▁▁▁▁▁▁▁▁</td></tr><tr><td>epoch/accuracy</td><td>▁▄▆▇█</td></tr><tr><td>epoch/epoch</td><td>▁▃▅▆█</td></tr><tr><td>epoch/learning_rate</td><td>▁▁▁▁▁</td></tr><tr><td>epoch/loss</td><td>█▄▃▂▁</td></tr><tr><td>epoch/val_accuracy</td><td>▁▄▆▇█</td></tr><tr><td>epoch/val_loss</td><td>█▃▂▁▁</td></tr></table><br/></div><div class=\"wandb-col\"><h3>Run summary:</h3><br/><table class=\"wandb\"><tr><td>batch/accuracy</td><td>0.51145</td></tr><tr><td>batch/batch_step</td><td>520</td></tr><tr><td>batch/learning_rate</td><td>0.001</td></tr><tr><td>batch/loss</td><td>1.1742</td></tr><tr><td>epoch/accuracy</td><td>0.51152</td></tr><tr><td>epoch/epoch</td><td>4</td></tr><tr><td>epoch/learning_rate</td><td>0.001</td></tr><tr><td>epoch/loss</td><td>1.17525</td></tr><tr><td>epoch/val_accuracy</td><td>0.4973</td></tr><tr><td>epoch/val_loss</td><td>1.2063</td></tr></table><br/></div></div>"
            ],
            "text/plain": [
              "<IPython.core.display.HTML object>"
            ]
          },
          "metadata": {},
          "output_type": "display_data"
        },
        {
          "data": {
            "text/html": [
              " View run <strong style=\"color:#cdcd00\">twilight-sweep-1</strong> at: <a href='https://wandb.ai/hussaintoori/5-flowers-project/runs/q3scz0gk' target=\"_blank\">https://wandb.ai/hussaintoori/5-flowers-project/runs/q3scz0gk</a><br> View project at: <a href='https://wandb.ai/hussaintoori/5-flowers-project' target=\"_blank\">https://wandb.ai/hussaintoori/5-flowers-project</a><br>Synced 5 W&B file(s), 0 media file(s), 0 artifact file(s) and 0 other file(s)"
            ],
            "text/plain": [
              "<IPython.core.display.HTML object>"
            ]
          },
          "metadata": {},
          "output_type": "display_data"
        },
        {
          "data": {
            "text/html": [
              "Find logs at: <code>./wandb/run-20250921_114009-q3scz0gk/logs</code>"
            ],
            "text/plain": [
              "<IPython.core.display.HTML object>"
            ]
          },
          "metadata": {},
          "output_type": "display_data"
        },
        {
          "metadata": {
            "tags": null
          },
          "name": "stderr",
          "output_type": "stream",
          "text": [
            "\u001b[34m\u001b[1mwandb\u001b[0m: Agent Starting Run: n36ios8n with config:\n",
            "\u001b[34m\u001b[1mwandb\u001b[0m: \tbatch_size: 32\n",
            "\u001b[34m\u001b[1mwandb\u001b[0m: \tepochs: 5\n",
            "\u001b[34m\u001b[1mwandb\u001b[0m: \thidden_nodes: 64\n",
            "\u001b[34m\u001b[1mwandb\u001b[0m: \timg_size: 64\n",
            "\u001b[34m\u001b[1mwandb\u001b[0m: \tlearning_rate: 0.0001\n",
            "\u001b[34m\u001b[1mwandb\u001b[0m: W&B API key is configured. Use \u001b[1m`wandb login --relogin`\u001b[0m to force relogin\n"
          ]
        },
        {
          "data": {
            "text/html": [],
            "text/plain": [
              "<IPython.core.display.HTML object>"
            ]
          },
          "metadata": {},
          "output_type": "display_data"
        },
        {
          "data": {
            "text/html": [
              "Tracking run with wandb version 0.21.3"
            ],
            "text/plain": [
              "<IPython.core.display.HTML object>"
            ]
          },
          "metadata": {},
          "output_type": "display_data"
        },
        {
          "data": {
            "text/html": [
              "Run data is saved locally in <code>/content/wandb/run-20250921_115328-n36ios8n</code>"
            ],
            "text/plain": [
              "<IPython.core.display.HTML object>"
            ]
          },
          "metadata": {},
          "output_type": "display_data"
        },
        {
          "data": {
            "text/html": [
              "Syncing run <strong><a href='https://wandb.ai/hussaintoori/5-flowers-project/runs/n36ios8n' target=\"_blank\">lunar-sweep-2</a></strong> to <a href='https://wandb.ai/hussaintoori/5-flowers-project' target=\"_blank\">Weights & Biases</a> (<a href='https://wandb.me/developer-guide' target=\"_blank\">docs</a>)<br>Sweep page: <a href='https://wandb.ai/hussaintoori/5-flowers-project/sweeps/iiskipi1' target=\"_blank\">https://wandb.ai/hussaintoori/5-flowers-project/sweeps/iiskipi1</a>"
            ],
            "text/plain": [
              "<IPython.core.display.HTML object>"
            ]
          },
          "metadata": {},
          "output_type": "display_data"
        },
        {
          "data": {
            "text/html": [
              " View project at <a href='https://wandb.ai/hussaintoori/5-flowers-project' target=\"_blank\">https://wandb.ai/hussaintoori/5-flowers-project</a>"
            ],
            "text/plain": [
              "<IPython.core.display.HTML object>"
            ]
          },
          "metadata": {},
          "output_type": "display_data"
        },
        {
          "data": {
            "text/html": [
              " View sweep at <a href='https://wandb.ai/hussaintoori/5-flowers-project/sweeps/iiskipi1' target=\"_blank\">https://wandb.ai/hussaintoori/5-flowers-project/sweeps/iiskipi1</a>"
            ],
            "text/plain": [
              "<IPython.core.display.HTML object>"
            ]
          },
          "metadata": {},
          "output_type": "display_data"
        },
        {
          "data": {
            "text/html": [
              " View run at <a href='https://wandb.ai/hussaintoori/5-flowers-project/runs/n36ios8n' target=\"_blank\">https://wandb.ai/hussaintoori/5-flowers-project/runs/n36ios8n</a>"
            ],
            "text/plain": [
              "<IPython.core.display.HTML object>"
            ]
          },
          "metadata": {},
          "output_type": "display_data"
        },
        {
          "metadata": {
            "tags": null
          },
          "name": "stdout",
          "output_type": "stream",
          "text": [
            "Epoch 1/5\n",
            "\u001b[1m104/104\u001b[0m \u001b[32m━━━━━━━━━━━━━━━━━━━━\u001b[0m\u001b[37m\u001b[0m \u001b[1m94s\u001b[0m 881ms/step - accuracy: 0.3174 - loss: 1.5324 - val_accuracy: 0.4514 - val_loss: 1.3153\n",
            "Epoch 2/5\n",
            "\u001b[1m104/104\u001b[0m \u001b[32m━━━━━━━━━━━━━━━━━━━━\u001b[0m\u001b[37m\u001b[0m \u001b[1m135s\u001b[0m 833ms/step - accuracy: 0.4430 - loss: 1.2994 - val_accuracy: 0.4676 - val_loss: 1.2710\n",
            "Epoch 3/5\n",
            "\u001b[1m104/104\u001b[0m \u001b[32m━━━━━━━━━━━━━━━━━━━━\u001b[0m\u001b[37m\u001b[0m \u001b[1m142s\u001b[0m 835ms/step - accuracy: 0.4705 - loss: 1.2362 - val_accuracy: 0.5108 - val_loss: 1.2283\n",
            "Epoch 4/5\n",
            "\u001b[1m104/104\u001b[0m \u001b[32m━━━━━━━━━━━━━━━━━━━━\u001b[0m\u001b[37m\u001b[0m \u001b[1m92s\u001b[0m 887ms/step - accuracy: 0.5062 - loss: 1.1810 - val_accuracy: 0.5297 - val_loss: 1.2102\n",
            "Epoch 5/5\n",
            "\u001b[1m104/104\u001b[0m \u001b[32m━━━━━━━━━━━━━━━━━━━━\u001b[0m\u001b[37m\u001b[0m \u001b[1m141s\u001b[0m 876ms/step - accuracy: 0.5301 - loss: 1.1366 - val_accuracy: 0.5108 - val_loss: 1.2021\n"
          ]
        },
        {
          "data": {
            "text/html": [],
            "text/plain": [
              "<IPython.core.display.HTML object>"
            ]
          },
          "metadata": {},
          "output_type": "display_data"
        },
        {
          "data": {
            "text/html": [
              "<br>    <style><br>        .wandb-row {<br>            display: flex;<br>            flex-direction: row;<br>            flex-wrap: wrap;<br>            justify-content: flex-start;<br>            width: 100%;<br>        }<br>        .wandb-col {<br>            display: flex;<br>            flex-direction: column;<br>            flex-basis: 100%;<br>            flex: 1;<br>            padding: 10px;<br>        }<br>    </style><br><div class=\"wandb-row\"><div class=\"wandb-col\"><h3>Run history:</h3><br/><table class=\"wandb\"><tr><td>batch/accuracy</td><td>▂▁▃▃▃▄▆▄▅▅▆▆▆▆▆▆▆▆▆▆▆▇▆▆█▆▇▇▇▇▇█▆▇▇█████</td></tr><tr><td>batch/batch_step</td><td>▁▁▁▁▁▂▂▂▂▂▂▃▃▃▃▃▄▄▄▄▄▅▅▅▅▅▆▆▆▆▆▆▆▇▇▇▇███</td></tr><tr><td>batch/learning_rate</td><td>▁▁▁▁▁▁▁▁▁▁▁▁▁▁▁▁▁▁▁▁▁▁▁▁▁▁▁▁▁▁▁▁▁▁▁▁▁▁▁▁</td></tr><tr><td>batch/loss</td><td>█▆▅▅▅▄▄▄▄▄▁▃▃▃▃▂▃▃▃▁▂▂▂▂▂▂▂▂▂▂▁▁▁▂▁▁▁▁▁▁</td></tr><tr><td>epoch/accuracy</td><td>▁▄▆▇█</td></tr><tr><td>epoch/epoch</td><td>▁▃▅▆█</td></tr><tr><td>epoch/learning_rate</td><td>▁▁▁▁▁</td></tr><tr><td>epoch/loss</td><td>█▅▃▂▁</td></tr><tr><td>epoch/val_accuracy</td><td>▁▂▆█▆</td></tr><tr><td>epoch/val_loss</td><td>█▅▃▁▁</td></tr></table><br/></div><div class=\"wandb-col\"><h3>Run summary:</h3><br/><table class=\"wandb\"><tr><td>batch/accuracy</td><td>0.53929</td></tr><tr><td>batch/batch_step</td><td>520</td></tr><tr><td>batch/learning_rate</td><td>0.0001</td></tr><tr><td>batch/loss</td><td>1.135</td></tr><tr><td>epoch/accuracy</td><td>0.5397</td></tr><tr><td>epoch/epoch</td><td>4</td></tr><tr><td>epoch/learning_rate</td><td>0.0001</td></tr><tr><td>epoch/loss</td><td>1.13508</td></tr><tr><td>epoch/val_accuracy</td><td>0.51081</td></tr><tr><td>epoch/val_loss</td><td>1.2021</td></tr></table><br/></div></div>"
            ],
            "text/plain": [
              "<IPython.core.display.HTML object>"
            ]
          },
          "metadata": {},
          "output_type": "display_data"
        },
        {
          "data": {
            "text/html": [
              " View run <strong style=\"color:#cdcd00\">lunar-sweep-2</strong> at: <a href='https://wandb.ai/hussaintoori/5-flowers-project/runs/n36ios8n' target=\"_blank\">https://wandb.ai/hussaintoori/5-flowers-project/runs/n36ios8n</a><br> View project at: <a href='https://wandb.ai/hussaintoori/5-flowers-project' target=\"_blank\">https://wandb.ai/hussaintoori/5-flowers-project</a><br>Synced 5 W&B file(s), 0 media file(s), 0 artifact file(s) and 0 other file(s)"
            ],
            "text/plain": [
              "<IPython.core.display.HTML object>"
            ]
          },
          "metadata": {},
          "output_type": "display_data"
        },
        {
          "data": {
            "text/html": [
              "Find logs at: <code>./wandb/run-20250921_115328-n36ios8n/logs</code>"
            ],
            "text/plain": [
              "<IPython.core.display.HTML object>"
            ]
          },
          "metadata": {},
          "output_type": "display_data"
        },
        {
          "metadata": {
            "tags": null
          },
          "name": "stderr",
          "output_type": "stream",
          "text": [
            "\u001b[34m\u001b[1mwandb\u001b[0m: Agent Starting Run: 3tclc3jn with config:\n",
            "\u001b[34m\u001b[1mwandb\u001b[0m: \tbatch_size: 32\n",
            "\u001b[34m\u001b[1mwandb\u001b[0m: \tepochs: 5\n",
            "\u001b[34m\u001b[1mwandb\u001b[0m: \thidden_nodes: 64\n",
            "\u001b[34m\u001b[1mwandb\u001b[0m: \timg_size: 64\n",
            "\u001b[34m\u001b[1mwandb\u001b[0m: \tlearning_rate: 1e-05\n"
          ]
        },
        {
          "data": {
            "text/html": [
              "creating run (0.0s)"
            ],
            "text/plain": [
              "<IPython.core.display.HTML object>"
            ]
          },
          "metadata": {},
          "output_type": "display_data"
        },
        {
          "data": {
            "text/html": [
              "Tracking run with wandb version 0.21.3"
            ],
            "text/plain": [
              "<IPython.core.display.HTML object>"
            ]
          },
          "metadata": {},
          "output_type": "display_data"
        },
        {
          "data": {
            "text/html": [
              "Run data is saved locally in <code>/content/wandb/run-20250921_120345-3tclc3jn</code>"
            ],
            "text/plain": [
              "<IPython.core.display.HTML object>"
            ]
          },
          "metadata": {},
          "output_type": "display_data"
        },
        {
          "data": {
            "text/html": [
              "Syncing run <strong><a href='https://wandb.ai/hussaintoori/5-flowers-project/runs/3tclc3jn' target=\"_blank\">efficient-sweep-3</a></strong> to <a href='https://wandb.ai/hussaintoori/5-flowers-project' target=\"_blank\">Weights & Biases</a> (<a href='https://wandb.me/developer-guide' target=\"_blank\">docs</a>)<br>Sweep page: <a href='https://wandb.ai/hussaintoori/5-flowers-project/sweeps/iiskipi1' target=\"_blank\">https://wandb.ai/hussaintoori/5-flowers-project/sweeps/iiskipi1</a>"
            ],
            "text/plain": [
              "<IPython.core.display.HTML object>"
            ]
          },
          "metadata": {},
          "output_type": "display_data"
        },
        {
          "data": {
            "text/html": [
              " View project at <a href='https://wandb.ai/hussaintoori/5-flowers-project' target=\"_blank\">https://wandb.ai/hussaintoori/5-flowers-project</a>"
            ],
            "text/plain": [
              "<IPython.core.display.HTML object>"
            ]
          },
          "metadata": {},
          "output_type": "display_data"
        },
        {
          "data": {
            "text/html": [
              " View sweep at <a href='https://wandb.ai/hussaintoori/5-flowers-project/sweeps/iiskipi1' target=\"_blank\">https://wandb.ai/hussaintoori/5-flowers-project/sweeps/iiskipi1</a>"
            ],
            "text/plain": [
              "<IPython.core.display.HTML object>"
            ]
          },
          "metadata": {},
          "output_type": "display_data"
        },
        {
          "data": {
            "text/html": [
              " View run at <a href='https://wandb.ai/hussaintoori/5-flowers-project/runs/3tclc3jn' target=\"_blank\">https://wandb.ai/hussaintoori/5-flowers-project/runs/3tclc3jn</a>"
            ],
            "text/plain": [
              "<IPython.core.display.HTML object>"
            ]
          },
          "metadata": {},
          "output_type": "display_data"
        },
        {
          "metadata": {
            "tags": null
          },
          "name": "stdout",
          "output_type": "stream",
          "text": [
            "Epoch 1/5\n",
            "\u001b[1m104/104\u001b[0m \u001b[32m━━━━━━━━━━━━━━━━━━━━\u001b[0m\u001b[37m\u001b[0m \u001b[1m93s\u001b[0m 879ms/step - accuracy: 0.2558 - loss: 1.5887 - val_accuracy: 0.4081 - val_loss: 1.4186\n",
            "Epoch 2/5\n",
            "\u001b[1m104/104\u001b[0m \u001b[32m━━━━━━━━━━━━━━━━━━━━\u001b[0m\u001b[37m\u001b[0m \u001b[1m138s\u001b[0m 844ms/step - accuracy: 0.3876 - loss: 1.4147 - val_accuracy: 0.4216 - val_loss: 1.3356\n",
            "Epoch 3/5\n",
            "\u001b[1m104/104\u001b[0m \u001b[32m━━━━━━━━━━━━━━━━━━━━\u001b[0m\u001b[37m\u001b[0m \u001b[1m142s\u001b[0m 849ms/step - accuracy: 0.4308 - loss: 1.3383 - val_accuracy: 0.4189 - val_loss: 1.2959\n",
            "Epoch 4/5\n",
            "\u001b[1m104/104\u001b[0m \u001b[32m━━━━━━━━━━━━━━━━━━━━\u001b[0m\u001b[37m\u001b[0m \u001b[1m201s\u001b[0m 1s/step - accuracy: 0.4528 - loss: 1.2939 - val_accuracy: 0.4135 - val_loss: 1.2648\n",
            "Epoch 5/5\n",
            "\u001b[1m104/104\u001b[0m \u001b[32m━━━━━━━━━━━━━━━━━━━━\u001b[0m\u001b[37m\u001b[0m \u001b[1m142s\u001b[0m 1s/step - accuracy: 0.4734 - loss: 1.2611 - val_accuracy: 0.4216 - val_loss: 1.2433\n"
          ]
        },
        {
          "data": {
            "text/html": [],
            "text/plain": [
              "<IPython.core.display.HTML object>"
            ]
          },
          "metadata": {},
          "output_type": "display_data"
        },
        {
          "data": {
            "text/html": [
              "<br>    <style><br>        .wandb-row {<br>            display: flex;<br>            flex-direction: row;<br>            flex-wrap: wrap;<br>            justify-content: flex-start;<br>            width: 100%;<br>        }<br>        .wandb-col {<br>            display: flex;<br>            flex-direction: column;<br>            flex-basis: 100%;<br>            flex: 1;<br>            padding: 10px;<br>        }<br>    </style><br><div class=\"wandb-row\"><div class=\"wandb-col\"><h3>Run history:</h3><br/><table class=\"wandb\"><tr><td>batch/accuracy</td><td>▁▁▂▂▂▂▂▂▂▂▄▅▅▅▅▄▄▇▅▅▅▆▅▅▅▅▅▅▅▆▆▆▆█▆▆▆▆▆▆</td></tr><tr><td>batch/batch_step</td><td>▁▁▁▂▂▂▂▃▃▃▃▃▄▄▄▄▄▄▄▅▅▅▅▅▅▆▆▆▆▇▇▇▇▇▇▇████</td></tr><tr><td>batch/learning_rate</td><td>▁▁▁▁▁▁▁▁▁▁▁▁▁▁▁▁▁▁▁▁▁▁▁▁▁▁▁▁▁▁▁▁▁▁▁▁▁▁▁▁</td></tr><tr><td>batch/loss</td><td>█▇▇▇▇▅▅▅▅▄▄▄▄▁▃▄▃▃▃▃▃▃▃▃▃▃▃▂▂▂▂▃▃▃▂▂▂▂▂▂</td></tr><tr><td>epoch/accuracy</td><td>▁▅▆▇█</td></tr><tr><td>epoch/epoch</td><td>▁▃▅▆█</td></tr><tr><td>epoch/learning_rate</td><td>▁▁▁▁▁</td></tr><tr><td>epoch/loss</td><td>█▅▃▂▁</td></tr><tr><td>epoch/val_accuracy</td><td>▁█▇▄█</td></tr><tr><td>epoch/val_loss</td><td>█▅▃▂▁</td></tr></table><br/></div><div class=\"wandb-col\"><h3>Run summary:</h3><br/><table class=\"wandb\"><tr><td>batch/accuracy</td><td>0.4703</td></tr><tr><td>batch/batch_step</td><td>520</td></tr><tr><td>batch/learning_rate</td><td>1e-05</td></tr><tr><td>batch/loss</td><td>1.26609</td></tr><tr><td>epoch/accuracy</td><td>0.47152</td></tr><tr><td>epoch/epoch</td><td>4</td></tr><tr><td>epoch/learning_rate</td><td>1e-05</td></tr><tr><td>epoch/loss</td><td>1.2647</td></tr><tr><td>epoch/val_accuracy</td><td>0.42162</td></tr><tr><td>epoch/val_loss</td><td>1.24326</td></tr></table><br/></div></div>"
            ],
            "text/plain": [
              "<IPython.core.display.HTML object>"
            ]
          },
          "metadata": {},
          "output_type": "display_data"
        },
        {
          "data": {
            "text/html": [
              " View run <strong style=\"color:#cdcd00\">efficient-sweep-3</strong> at: <a href='https://wandb.ai/hussaintoori/5-flowers-project/runs/3tclc3jn' target=\"_blank\">https://wandb.ai/hussaintoori/5-flowers-project/runs/3tclc3jn</a><br> View project at: <a href='https://wandb.ai/hussaintoori/5-flowers-project' target=\"_blank\">https://wandb.ai/hussaintoori/5-flowers-project</a><br>Synced 5 W&B file(s), 0 media file(s), 0 artifact file(s) and 0 other file(s)"
            ],
            "text/plain": [
              "<IPython.core.display.HTML object>"
            ]
          },
          "metadata": {},
          "output_type": "display_data"
        },
        {
          "data": {
            "text/html": [
              "Find logs at: <code>./wandb/run-20250921_120345-3tclc3jn/logs</code>"
            ],
            "text/plain": [
              "<IPython.core.display.HTML object>"
            ]
          },
          "metadata": {},
          "output_type": "display_data"
        },
        {
          "metadata": {
            "tags": null
          },
          "name": "stderr",
          "output_type": "stream",
          "text": [
            "\u001b[34m\u001b[1mwandb\u001b[0m: Agent Starting Run: 5a7uiv6i with config:\n",
            "\u001b[34m\u001b[1mwandb\u001b[0m: \tbatch_size: 32\n",
            "\u001b[34m\u001b[1mwandb\u001b[0m: \tepochs: 5\n",
            "\u001b[34m\u001b[1mwandb\u001b[0m: \thidden_nodes: 64\n",
            "\u001b[34m\u001b[1mwandb\u001b[0m: \timg_size: 128\n",
            "\u001b[34m\u001b[1mwandb\u001b[0m: \tlearning_rate: 0.001\n"
          ]
        },
        {
          "data": {
            "text/html": [
              "creating run (0.0s)"
            ],
            "text/plain": [
              "<IPython.core.display.HTML object>"
            ]
          },
          "metadata": {},
          "output_type": "display_data"
        },
        {
          "data": {
            "text/html": [
              "Tracking run with wandb version 0.21.3"
            ],
            "text/plain": [
              "<IPython.core.display.HTML object>"
            ]
          },
          "metadata": {},
          "output_type": "display_data"
        },
        {
          "data": {
            "text/html": [
              "Run data is saved locally in <code>/content/wandb/run-20250921_121554-5a7uiv6i</code>"
            ],
            "text/plain": [
              "<IPython.core.display.HTML object>"
            ]
          },
          "metadata": {},
          "output_type": "display_data"
        },
        {
          "data": {
            "text/html": [
              "Syncing run <strong><a href='https://wandb.ai/hussaintoori/5-flowers-project/runs/5a7uiv6i' target=\"_blank\">tough-sweep-4</a></strong> to <a href='https://wandb.ai/hussaintoori/5-flowers-project' target=\"_blank\">Weights & Biases</a> (<a href='https://wandb.me/developer-guide' target=\"_blank\">docs</a>)<br>Sweep page: <a href='https://wandb.ai/hussaintoori/5-flowers-project/sweeps/iiskipi1' target=\"_blank\">https://wandb.ai/hussaintoori/5-flowers-project/sweeps/iiskipi1</a>"
            ],
            "text/plain": [
              "<IPython.core.display.HTML object>"
            ]
          },
          "metadata": {},
          "output_type": "display_data"
        },
        {
          "data": {
            "text/html": [
              " View project at <a href='https://wandb.ai/hussaintoori/5-flowers-project' target=\"_blank\">https://wandb.ai/hussaintoori/5-flowers-project</a>"
            ],
            "text/plain": [
              "<IPython.core.display.HTML object>"
            ]
          },
          "metadata": {},
          "output_type": "display_data"
        },
        {
          "data": {
            "text/html": [
              " View sweep at <a href='https://wandb.ai/hussaintoori/5-flowers-project/sweeps/iiskipi1' target=\"_blank\">https://wandb.ai/hussaintoori/5-flowers-project/sweeps/iiskipi1</a>"
            ],
            "text/plain": [
              "<IPython.core.display.HTML object>"
            ]
          },
          "metadata": {},
          "output_type": "display_data"
        },
        {
          "data": {
            "text/html": [
              " View run at <a href='https://wandb.ai/hussaintoori/5-flowers-project/runs/5a7uiv6i' target=\"_blank\">https://wandb.ai/hussaintoori/5-flowers-project/runs/5a7uiv6i</a>"
            ],
            "text/plain": [
              "<IPython.core.display.HTML object>"
            ]
          },
          "metadata": {},
          "output_type": "display_data"
        },
        {
          "output_type": "stream",
          "name": "stdout",
          "text": [
            "Epoch 1/5\n",
            "\u001b[1m104/104\u001b[0m \u001b[32m━━━━━━━━━━━━━━━━━━━━\u001b[0m\u001b[37m\u001b[0m \u001b[1m88s\u001b[0m 829ms/step - accuracy: 0.2659 - loss: 7.1184 - val_accuracy: 0.3270 - val_loss: 1.5198\n",
            "Epoch 2/5\n",
            "\u001b[1m104/104\u001b[0m \u001b[32m━━━━━━━━━━━━━━━━━━━━\u001b[0m\u001b[37m\u001b[0m \u001b[1m141s\u001b[0m 824ms/step - accuracy: 0.2496 - loss: 1.5966 - val_accuracy: 0.3162 - val_loss: 1.6007\n",
            "Epoch 3/5\n",
            "\u001b[1m104/104\u001b[0m \u001b[32m━━━━━━━━━━━━━━━━━━━━\u001b[0m\u001b[37m\u001b[0m \u001b[1m89s\u001b[0m 856ms/step - accuracy: 0.3164 - loss: 1.5589 - val_accuracy: 0.2595 - val_loss: 1.6265\n",
            "Epoch 4/5\n",
            "\u001b[1m104/104\u001b[0m \u001b[32m━━━━━━━━━━━━━━━━━━━━\u001b[0m\u001b[37m\u001b[0m \u001b[1m141s\u001b[0m 1s/step - accuracy: 0.2623 - loss: 1.5915 - val_accuracy: 0.2405 - val_loss: 1.5986\n",
            "Epoch 5/5\n",
            "\u001b[1m104/104\u001b[0m \u001b[32m━━━━━━━━━━━━━━━━━━━━\u001b[0m\u001b[37m\u001b[0m \u001b[1m85s\u001b[0m 808ms/step - accuracy: 0.2565 - loss: 1.5834 - val_accuracy: 0.2243 - val_loss: 1.6028\n"
          ]
        },
        {
          "output_type": "display_data",
          "data": {
            "text/plain": [
              "<IPython.core.display.HTML object>"
            ],
            "text/html": []
          },
          "metadata": {}
        },
        {
          "output_type": "display_data",
          "data": {
            "text/plain": [
              "<IPython.core.display.HTML object>"
            ],
            "text/html": [
              "<br>    <style><br>        .wandb-row {<br>            display: flex;<br>            flex-direction: row;<br>            flex-wrap: wrap;<br>            justify-content: flex-start;<br>            width: 100%;<br>        }<br>        .wandb-col {<br>            display: flex;<br>            flex-direction: column;<br>            flex-basis: 100%;<br>            flex: 1;<br>            padding: 10px;<br>        }<br>    </style><br><div class=\"wandb-row\"><div class=\"wandb-col\"><h3>Run history:</h3><br/><table class=\"wandb\"><tr><td>batch/accuracy</td><td>▁▂▃▄▅▆▆▆▆█▃▃▃▄▄▄▄▄▆▇▇▇▆▄▃▄▃▄▄▄▅▅▅▄▄▅▅▅▅▄</td></tr><tr><td>batch/batch_step</td><td>▁▁▁▁▁▂▂▂▂▂▂▂▂▂▃▃▃▄▄▄▅▅▅▅▅▆▆▆▆▆▇▇▇▇▇▇▇███</td></tr><tr><td>batch/learning_rate</td><td>▁▁▁▁▁▁▁▁▁▁▁▁▁▁▁▁▁▁▁▁▁▁▁▁▁▁▁▁▁▁▁▁▁▁▁▁▁▁▁▁</td></tr><tr><td>batch/loss</td><td>▁█▇▆▅▃▃▃▂▁▁▁▁▁▁▁▁▁▁▁▁▁▁▁▁▁▁▁▁▁▁▁▁▁▁▁▁▁▁▁</td></tr><tr><td>epoch/accuracy</td><td>▆▁█▄▁</td></tr><tr><td>epoch/epoch</td><td>▁▃▅▆█</td></tr><tr><td>epoch/learning_rate</td><td>▁▁▁▁▁</td></tr><tr><td>epoch/loss</td><td>█▁▁▁▁</td></tr><tr><td>epoch/val_accuracy</td><td>█▇▃▂▁</td></tr><tr><td>epoch/val_loss</td><td>▁▆█▆▆</td></tr></table><br/></div><div class=\"wandb-col\"><h3>Run summary:</h3><br/><table class=\"wandb\"><tr><td>batch/accuracy</td><td>0.26269</td></tr><tr><td>batch/batch_step</td><td>520</td></tr><tr><td>batch/learning_rate</td><td>0.001</td></tr><tr><td>batch/loss</td><td>1.57424</td></tr><tr><td>epoch/accuracy</td><td>0.26303</td></tr><tr><td>epoch/epoch</td><td>4</td></tr><tr><td>epoch/learning_rate</td><td>0.001</td></tr><tr><td>epoch/loss</td><td>1.57378</td></tr><tr><td>epoch/val_accuracy</td><td>0.22432</td></tr><tr><td>epoch/val_loss</td><td>1.60279</td></tr></table><br/></div></div>"
            ]
          },
          "metadata": {}
        },
        {
          "output_type": "display_data",
          "data": {
            "text/plain": [
              "<IPython.core.display.HTML object>"
            ],
            "text/html": [
              " View run <strong style=\"color:#cdcd00\">tough-sweep-4</strong> at: <a href='https://wandb.ai/hussaintoori/5-flowers-project/runs/5a7uiv6i' target=\"_blank\">https://wandb.ai/hussaintoori/5-flowers-project/runs/5a7uiv6i</a><br> View project at: <a href='https://wandb.ai/hussaintoori/5-flowers-project' target=\"_blank\">https://wandb.ai/hussaintoori/5-flowers-project</a><br>Synced 5 W&B file(s), 0 media file(s), 0 artifact file(s) and 0 other file(s)"
            ]
          },
          "metadata": {}
        },
        {
          "output_type": "display_data",
          "data": {
            "text/plain": [
              "<IPython.core.display.HTML object>"
            ],
            "text/html": [
              "Find logs at: <code>./wandb/run-20250921_121554-5a7uiv6i/logs</code>"
            ]
          },
          "metadata": {}
        },
        {
          "output_type": "stream",
          "name": "stderr",
          "text": [
            "\u001b[34m\u001b[1mwandb\u001b[0m: Agent Starting Run: u0qqvum1 with config:\n",
            "\u001b[34m\u001b[1mwandb\u001b[0m: \tbatch_size: 32\n",
            "\u001b[34m\u001b[1mwandb\u001b[0m: \tepochs: 5\n",
            "\u001b[34m\u001b[1mwandb\u001b[0m: \thidden_nodes: 64\n",
            "\u001b[34m\u001b[1mwandb\u001b[0m: \timg_size: 128\n",
            "\u001b[34m\u001b[1mwandb\u001b[0m: \tlearning_rate: 0.0001\n"
          ]
        },
        {
          "output_type": "display_data",
          "data": {
            "text/plain": [
              "<IPython.core.display.HTML object>"
            ],
            "text/html": []
          },
          "metadata": {}
        },
        {
          "output_type": "display_data",
          "data": {
            "text/plain": [
              "<IPython.core.display.HTML object>"
            ],
            "text/html": [
              "Tracking run with wandb version 0.21.3"
            ]
          },
          "metadata": {}
        },
        {
          "output_type": "display_data",
          "data": {
            "text/plain": [
              "<IPython.core.display.HTML object>"
            ],
            "text/html": [
              "Run data is saved locally in <code>/content/wandb/run-20250921_122515-u0qqvum1</code>"
            ]
          },
          "metadata": {}
        },
        {
          "output_type": "display_data",
          "data": {
            "text/plain": [
              "<IPython.core.display.HTML object>"
            ],
            "text/html": [
              "Syncing run <strong><a href='https://wandb.ai/hussaintoori/5-flowers-project/runs/u0qqvum1' target=\"_blank\">charmed-sweep-5</a></strong> to <a href='https://wandb.ai/hussaintoori/5-flowers-project' target=\"_blank\">Weights & Biases</a> (<a href='https://wandb.me/developer-guide' target=\"_blank\">docs</a>)<br>Sweep page: <a href='https://wandb.ai/hussaintoori/5-flowers-project/sweeps/iiskipi1' target=\"_blank\">https://wandb.ai/hussaintoori/5-flowers-project/sweeps/iiskipi1</a>"
            ]
          },
          "metadata": {}
        },
        {
          "output_type": "display_data",
          "data": {
            "text/plain": [
              "<IPython.core.display.HTML object>"
            ],
            "text/html": [
              " View project at <a href='https://wandb.ai/hussaintoori/5-flowers-project' target=\"_blank\">https://wandb.ai/hussaintoori/5-flowers-project</a>"
            ]
          },
          "metadata": {}
        },
        {
          "output_type": "display_data",
          "data": {
            "text/plain": [
              "<IPython.core.display.HTML object>"
            ],
            "text/html": [
              " View sweep at <a href='https://wandb.ai/hussaintoori/5-flowers-project/sweeps/iiskipi1' target=\"_blank\">https://wandb.ai/hussaintoori/5-flowers-project/sweeps/iiskipi1</a>"
            ]
          },
          "metadata": {}
        },
        {
          "output_type": "display_data",
          "data": {
            "text/plain": [
              "<IPython.core.display.HTML object>"
            ],
            "text/html": [
              " View run at <a href='https://wandb.ai/hussaintoori/5-flowers-project/runs/u0qqvum1' target=\"_blank\">https://wandb.ai/hussaintoori/5-flowers-project/runs/u0qqvum1</a>"
            ]
          },
          "metadata": {}
        },
        {
          "output_type": "stream",
          "name": "stdout",
          "text": [
            "Epoch 1/5\n",
            "\u001b[1m104/104\u001b[0m \u001b[32m━━━━━━━━━━━━━━━━━━━━\u001b[0m\u001b[37m\u001b[0m \u001b[1m86s\u001b[0m 807ms/step - accuracy: 0.3334 - loss: 1.5974 - val_accuracy: 0.4514 - val_loss: 1.3177\n",
            "Epoch 2/5\n",
            "\u001b[1m104/104\u001b[0m \u001b[32m━━━━━━━━━━━━━━━━━━━━\u001b[0m\u001b[37m\u001b[0m \u001b[1m142s\u001b[0m 821ms/step - accuracy: 0.4347 - loss: 1.3349 - val_accuracy: 0.4541 - val_loss: 1.2507\n",
            "Epoch 3/5\n",
            "\u001b[1m 17/104\u001b[0m \u001b[32m━━━\u001b[0m\u001b[37m━━━━━━━━━━━━━━━━━\u001b[0m \u001b[1m57s\u001b[0m 665ms/step - accuracy: 0.4436 - loss: 1.2830"
          ]
        }
      ]
    },
    {
      "cell_type": "code",
      "source": [],
      "metadata": {
        "id": "Do6xMyQ9Cfd4"
      },
      "execution_count": null,
      "outputs": []
    }
  ]
}